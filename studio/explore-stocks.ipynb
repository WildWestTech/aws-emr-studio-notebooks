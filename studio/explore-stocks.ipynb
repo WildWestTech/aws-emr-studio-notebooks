{
 "cells": [
  {
   "cell_type": "markdown",
   "id": "a263fabf-266d-4bbb-9f9f-6f84d54e1a18",
   "metadata": {
    "execution": {
     "iopub.execute_input": "2023-02-27T22:32:41.609373Z",
     "iopub.status.busy": "2023-02-27T22:32:41.609072Z",
     "iopub.status.idle": "2023-02-27T22:32:41.612895Z",
     "shell.execute_reply": "2023-02-27T22:32:41.612031Z",
     "shell.execute_reply.started": "2023-02-27T22:32:41.609349Z"
    }
   },
   "source": [
    "### Explore Stock Data"
   ]
  },
  {
   "cell_type": "code",
   "execution_count": 1,
   "id": "d7b0725d-82bc-4275-893d-d67050cf20ac",
   "metadata": {
    "execution": {
     "iopub.execute_input": "2023-02-27T22:00:04.425781Z",
     "iopub.status.busy": "2023-02-27T22:00:04.425417Z",
     "iopub.status.idle": "2023-02-27T22:00:04.429808Z",
     "shell.execute_reply": "2023-02-27T22:00:04.429085Z",
     "shell.execute_reply.started": "2023-02-27T22:00:04.425708Z"
    },
    "tags": []
   },
   "outputs": [],
   "source": [
    "import boto3\n",
    "import json\n",
    "import pandas as pd\n",
    "from io import BytesIO"
   ]
  },
  {
   "cell_type": "code",
   "execution_count": 2,
   "id": "e0ea218c-439a-4a08-afc6-18ad4d7e20f5",
   "metadata": {
    "execution": {
     "iopub.execute_input": "2023-02-27T22:00:05.297440Z",
     "iopub.status.busy": "2023-02-27T22:00:05.297148Z",
     "iopub.status.idle": "2023-02-27T22:00:05.301162Z",
     "shell.execute_reply": "2023-02-27T22:00:05.300264Z",
     "shell.execute_reply.started": "2023-02-27T22:00:05.297417Z"
    },
    "tags": []
   },
   "outputs": [],
   "source": [
    "# s3 uri for one of the files to explore\n",
    "s3_uri = 's3://wildwesttech-bronze-dev/alphavantage_bronze/SPY/dataload=20230217/SPY.json'"
   ]
  },
  {
   "cell_type": "code",
   "execution_count": 3,
   "id": "b82d123c-c9d1-4e12-9cde-8622029e6658",
   "metadata": {
    "execution": {
     "iopub.execute_input": "2023-02-27T22:00:06.061541Z",
     "iopub.status.busy": "2023-02-27T22:00:06.061232Z",
     "iopub.status.idle": "2023-02-27T22:00:06.149793Z",
     "shell.execute_reply": "2023-02-27T22:00:06.149077Z",
     "shell.execute_reply.started": "2023-02-27T22:00:06.061517Z"
    },
    "tags": []
   },
   "outputs": [],
   "source": [
    "# split the file into bucket and key, load the object\n",
    "bucket, key = \"wildwesttech-bronze-dev\", \"alphavantage_bronze/SPY/dataload=20230217/SPY.json\"\n",
    "s3 = boto3.resource('s3')\n",
    "obj = s3.Object(bucket, key)\n",
    "data = json.load(obj.get()['Body'])"
   ]
  },
  {
   "cell_type": "code",
   "execution_count": 4,
   "id": "4d20b1a5-f87f-4c53-9550-b4f4f39f1840",
   "metadata": {
    "execution": {
     "iopub.execute_input": "2023-02-27T22:00:06.777838Z",
     "iopub.status.busy": "2023-02-27T22:00:06.777483Z",
     "iopub.status.idle": "2023-02-27T22:00:06.781961Z",
     "shell.execute_reply": "2023-02-27T22:00:06.780921Z",
     "shell.execute_reply.started": "2023-02-27T22:00:06.777808Z"
    },
    "tags": []
   },
   "outputs": [],
   "source": [
    "# after viewing the data, grab the Time Series data to work with\n",
    "TimeSeries = data['Time Series (5min)']"
   ]
  },
  {
   "cell_type": "code",
   "execution_count": 5,
   "id": "61c42ea7-dd14-47e3-965f-d20526ff936d",
   "metadata": {
    "execution": {
     "iopub.execute_input": "2023-02-27T22:00:07.434793Z",
     "iopub.status.busy": "2023-02-27T22:00:07.434474Z",
     "iopub.status.idle": "2023-02-27T22:00:07.442891Z",
     "shell.execute_reply": "2023-02-27T22:00:07.441996Z",
     "shell.execute_reply.started": "2023-02-27T22:00:07.434767Z"
    },
    "tags": []
   },
   "outputs": [],
   "source": [
    "# transpose the rows and columns for a cleaner dataframe\n",
    "df = pd.DataFrame.from_dict(TimeSeries).transpose()"
   ]
  },
  {
   "cell_type": "code",
   "execution_count": 6,
   "id": "68b2a26f-b0f4-4d0a-953e-269b704f0744",
   "metadata": {
    "execution": {
     "iopub.execute_input": "2023-02-27T22:00:08.121968Z",
     "iopub.status.busy": "2023-02-27T22:00:08.121661Z",
     "iopub.status.idle": "2023-02-27T22:00:08.125898Z",
     "shell.execute_reply": "2023-02-27T22:00:08.124986Z",
     "shell.execute_reply.started": "2023-02-27T22:00:08.121945Z"
    },
    "tags": []
   },
   "outputs": [],
   "source": [
    "# let's rename the columns\n",
    "columns={'index': 'refresh_datetime',\n",
    "        '1. open':'open',\n",
    "        '2. high':'high',\n",
    "        '3. low':'low',\n",
    "        '4. close':'close',\n",
    "        '5. volume':'volume'}"
   ]
  },
  {
   "cell_type": "code",
   "execution_count": 7,
   "id": "74eee92d-d835-4bcb-90e9-a6f2dbfa447c",
   "metadata": {
    "execution": {
     "iopub.execute_input": "2023-02-27T22:00:10.598411Z",
     "iopub.status.busy": "2023-02-27T22:00:10.598096Z",
     "iopub.status.idle": "2023-02-27T22:00:10.617889Z",
     "shell.execute_reply": "2023-02-27T22:00:10.617039Z",
     "shell.execute_reply.started": "2023-02-27T22:00:10.598384Z"
    },
    "tags": []
   },
   "outputs": [
    {
     "data": {
      "text/html": [
       "<div>\n",
       "<style scoped>\n",
       "    .dataframe tbody tr th:only-of-type {\n",
       "        vertical-align: middle;\n",
       "    }\n",
       "\n",
       "    .dataframe tbody tr th {\n",
       "        vertical-align: top;\n",
       "    }\n",
       "\n",
       "    .dataframe thead th {\n",
       "        text-align: right;\n",
       "    }\n",
       "</style>\n",
       "<table border=\"1\" class=\"dataframe\">\n",
       "  <thead>\n",
       "    <tr style=\"text-align: right;\">\n",
       "      <th></th>\n",
       "      <th>refresh_datetime</th>\n",
       "      <th>open</th>\n",
       "      <th>high</th>\n",
       "      <th>low</th>\n",
       "      <th>close</th>\n",
       "      <th>volume</th>\n",
       "    </tr>\n",
       "  </thead>\n",
       "  <tbody>\n",
       "    <tr>\n",
       "      <th>0</th>\n",
       "      <td>2023-02-16 20:00:00</td>\n",
       "      <td>407.3100</td>\n",
       "      <td>407.3100</td>\n",
       "      <td>407.2600</td>\n",
       "      <td>407.3000</td>\n",
       "      <td>7967</td>\n",
       "    </tr>\n",
       "    <tr>\n",
       "      <th>1</th>\n",
       "      <td>2023-02-16 19:55:00</td>\n",
       "      <td>407.2400</td>\n",
       "      <td>407.3000</td>\n",
       "      <td>407.1900</td>\n",
       "      <td>407.3000</td>\n",
       "      <td>22941</td>\n",
       "    </tr>\n",
       "    <tr>\n",
       "      <th>2</th>\n",
       "      <td>2023-02-16 19:50:00</td>\n",
       "      <td>407.3400</td>\n",
       "      <td>407.3500</td>\n",
       "      <td>407.2100</td>\n",
       "      <td>407.2500</td>\n",
       "      <td>28018</td>\n",
       "    </tr>\n",
       "    <tr>\n",
       "      <th>3</th>\n",
       "      <td>2023-02-16 19:45:00</td>\n",
       "      <td>407.3200</td>\n",
       "      <td>407.4000</td>\n",
       "      <td>407.3000</td>\n",
       "      <td>407.3800</td>\n",
       "      <td>2895</td>\n",
       "    </tr>\n",
       "    <tr>\n",
       "      <th>4</th>\n",
       "      <td>2023-02-16 19:40:00</td>\n",
       "      <td>407.3400</td>\n",
       "      <td>407.3400</td>\n",
       "      <td>407.2600</td>\n",
       "      <td>407.3000</td>\n",
       "      <td>3315</td>\n",
       "    </tr>\n",
       "  </tbody>\n",
       "</table>\n",
       "</div>"
      ],
      "text/plain": [
       "      refresh_datetime      open      high       low     close volume\n",
       "0  2023-02-16 20:00:00  407.3100  407.3100  407.2600  407.3000   7967\n",
       "1  2023-02-16 19:55:00  407.2400  407.3000  407.1900  407.3000  22941\n",
       "2  2023-02-16 19:50:00  407.3400  407.3500  407.2100  407.2500  28018\n",
       "3  2023-02-16 19:45:00  407.3200  407.4000  407.3000  407.3800   2895\n",
       "4  2023-02-16 19:40:00  407.3400  407.3400  407.2600  407.3000   3315"
      ]
     },
     "execution_count": 7,
     "metadata": {},
     "output_type": "execute_result"
    }
   ],
   "source": [
    "# final look at the file as a dataframe\n",
    "df = df.reset_index().rename(columns=columns)\n",
    "df.head()"
   ]
  },
  {
   "cell_type": "markdown",
   "id": "71938a6e-d338-4fe4-924b-2a3523cd2d50",
   "metadata": {},
   "source": [
    "### Recap\n",
    "- We explored this file: s3_uri = 's3://wildwesttech-bronze-dev/alphavantage_bronze/SPY/dataload=20230217/SPY.json'\n",
    "- The json file contained two major componenents: Metadata and Time Series\n",
    "- I am more interested in the time series data.\n",
    "- After loading the time series data, I noticed the data was presented horizontally, rather than vertically, so I transposed the rows and columns.\n",
    "- I also wanted to pull in the index as a regular column, and rename the columns so they would be easier to work with in the future.\n",
    "- The final dataframe looks like something we can work with.\n",
    "- Next steps will focus on how we'll handle multiple stock symbols in addition to SPY and how to handle multiple load dates."
   ]
  },
  {
   "cell_type": "code",
   "execution_count": null,
   "id": "f83cb0e4-8ba2-4fba-b11e-a2f963fde095",
   "metadata": {},
   "outputs": [],
   "source": []
  }
 ],
 "metadata": {
  "kernelspec": {
   "display_name": "Python 3",
   "language": "python",
   "name": "python3"
  },
  "language_info": {
   "codemirror_mode": {
    "name": "ipython",
    "version": 3
   },
   "file_extension": ".py",
   "mimetype": "text/x-python",
   "name": "python",
   "nbconvert_exporter": "python",
   "pygments_lexer": "ipython3",
   "version": "3.7.13"
  }
 },
 "nbformat": 4,
 "nbformat_minor": 5
}
