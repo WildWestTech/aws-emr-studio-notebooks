{
 "cells": [
  {
   "cell_type": "code",
   "execution_count": 21,
   "id": "0bb163aa-ca47-40bb-a115-e18e424133a1",
   "metadata": {
    "execution": {
     "iopub.execute_input": "2023-02-28T02:12:11.907161Z",
     "iopub.status.busy": "2023-02-28T02:12:11.906839Z",
     "iopub.status.idle": "2023-02-28T02:12:11.962612Z",
     "shell.execute_reply": "2023-02-28T02:12:11.961720Z",
     "shell.execute_reply.started": "2023-02-28T02:12:11.907136Z"
    },
    "tags": []
   },
   "outputs": [
    {
     "data": {
      "application/vnd.jupyter.widget-view+json": {
       "model_id": "96724cd2c5b64471954dbebd664d5e6a",
       "version_major": 2,
       "version_minor": 0
      },
      "text/plain": [
       "VBox()"
      ]
     },
     "metadata": {},
     "output_type": "display_data"
    },
    {
     "data": {
      "application/vnd.jupyter.widget-view+json": {
       "model_id": "",
       "version_major": 2,
       "version_minor": 0
      },
      "text/plain": [
       "FloatProgress(value=0.0, bar_style='info', description='Progress:', layout=Layout(height='25px', width='50%'),…"
      ]
     },
     "metadata": {},
     "output_type": "display_data"
    }
   ],
   "source": [
    "import boto3\n",
    "import json\n",
    "from pyspark.sql import SparkSession\n",
    "from pyspark.sql.functions import expr, lit\n",
    "from pyspark.pandas.config import option_context"
   ]
  },
  {
   "cell_type": "code",
   "execution_count": null,
   "id": "45f3bb6e-dbe4-4b6d-b283-611f0018185e",
   "metadata": {
    "tags": []
   },
   "outputs": [],
   "source": [
    "# Create a SparkSession\n",
    "spark = SparkSession.builder.appName(\"StockData\").getOrCreate()"
   ]
  },
  {
   "cell_type": "code",
   "execution_count": 37,
   "id": "a2e3787f-6a7f-4a2f-9e47-6e9c71a3bf99",
   "metadata": {
    "execution": {
     "iopub.execute_input": "2023-02-28T04:20:37.420940Z",
     "iopub.status.busy": "2023-02-28T04:20:37.420584Z",
     "iopub.status.idle": "2023-02-28T04:20:38.686875Z",
     "shell.execute_reply": "2023-02-28T04:20:38.685957Z",
     "shell.execute_reply.started": "2023-02-28T04:20:37.420909Z"
    },
    "tags": []
   },
   "outputs": [
    {
     "data": {
      "application/vnd.jupyter.widget-view+json": {
       "model_id": "904a51323a8f4a6f9c2329e2b3a7dcaa",
       "version_major": 2,
       "version_minor": 0
      },
      "text/plain": [
       "VBox()"
      ]
     },
     "metadata": {},
     "output_type": "display_data"
    },
    {
     "data": {
      "application/vnd.jupyter.widget-view+json": {
       "model_id": "",
       "version_major": 2,
       "version_minor": 0
      },
      "text/plain": [
       "FloatProgress(value=0.0, bar_style='info', description='Progress:', layout=Layout(height='25px', width='50%'),…"
      ]
     },
     "metadata": {},
     "output_type": "display_data"
    }
   ],
   "source": [
    "# Define the path to the JSON files\n",
    "s3_uri = 's3://wildwesttech-silver-dev/alphavantage_silver/SPY/dataload=20230217/SPY.json'\n",
    "path = \"path/to/json/files/*/*/\"\n",
    "path = f\"s3://wildwesttech-silver-dev/alphavantage_silver/*/dataload=*/*.csv\"\n",
    "#path = \"s3://wildwesttech-bronze-dev/alphavantage_bronze/SPY/dataload=20230217/*.json\"\n",
    "\n",
    "# Load the JSON files into a DataFrame\n",
    "df = spark.read \\\n",
    "    .csv(path, header='true') "
   ]
  },
  {
   "cell_type": "code",
   "execution_count": 38,
   "id": "d50c9e55-c4dd-47a6-a022-e9fbfa63ea0d",
   "metadata": {
    "execution": {
     "iopub.execute_input": "2023-02-28T04:20:41.192607Z",
     "iopub.status.busy": "2023-02-28T04:20:41.192270Z",
     "iopub.status.idle": "2023-02-28T04:20:41.453123Z",
     "shell.execute_reply": "2023-02-28T04:20:41.452309Z",
     "shell.execute_reply.started": "2023-02-28T04:20:41.192577Z"
    },
    "tags": []
   },
   "outputs": [
    {
     "data": {
      "application/vnd.jupyter.widget-view+json": {
       "model_id": "5d5a215669804fc4bcce4899204ee436",
       "version_major": 2,
       "version_minor": 0
      },
      "text/plain": [
       "VBox()"
      ]
     },
     "metadata": {},
     "output_type": "display_data"
    },
    {
     "data": {
      "application/vnd.jupyter.widget-view+json": {
       "model_id": "",
       "version_major": 2,
       "version_minor": 0
      },
      "text/plain": [
       "FloatProgress(value=0.0, bar_style='info', description='Progress:', layout=Layout(height='25px', width='50%'),…"
      ]
     },
     "metadata": {},
     "output_type": "display_data"
    },
    {
     "name": "stdout",
     "output_type": "stream",
     "text": [
      "+-------------------+--------+--------+--------+--------+------+------+\n",
      "|   refresh_datetime|    open|    high|     low|   close|volume|symbol|\n",
      "+-------------------+--------+--------+--------+--------+------+------+\n",
      "|2023-02-24 20:00:00|396.2501|396.2700|396.0000|396.2000| 21566|   SPY|\n",
      "|2023-02-24 19:55:00|396.3400|396.3400|396.2500|396.2500|  2310|   SPY|\n",
      "|2023-02-24 19:50:00|396.2900|396.3400|396.2900|396.3400|  2333|   SPY|\n",
      "|2023-02-24 19:45:00|396.3000|396.3000|396.3000|396.3000|  1277|   SPY|\n",
      "|2023-02-24 19:40:00|396.3000|396.3100|396.2900|396.3100|  1613|   SPY|\n",
      "|2023-02-24 19:35:00|396.3100|396.3100|396.3000|396.3000|  1315|   SPY|\n",
      "|2023-02-24 19:25:00|396.3000|396.3100|396.3000|396.3000|   838|   SPY|\n",
      "|2023-02-24 19:20:00|396.3000|396.3000|396.3000|396.3000|   925|   SPY|\n",
      "|2023-02-24 19:10:00|396.3100|396.3100|396.3100|396.3100|   337|   SPY|\n",
      "|2023-02-24 19:00:00|396.3800|396.3800|396.3800|396.3800|   114|   SPY|\n",
      "|2023-02-24 18:55:00|396.3400|396.3700|396.3400|396.3700|  1351|   SPY|\n",
      "|2023-02-24 18:45:00|396.3100|396.3100|396.2500|396.2500|  5330|   SPY|\n",
      "|2023-02-24 18:40:00|396.3500|396.3500|396.3000|396.3000|   962|   SPY|\n",
      "|2023-02-24 18:35:00|396.3500|396.3500|396.3500|396.3500|   219|   SPY|\n",
      "|2023-02-24 18:30:00|396.3400|396.3500|396.3400|396.3500|   383|   SPY|\n",
      "|2023-02-24 18:25:00|396.3400|396.3500|396.3400|396.3500|  1067|   SPY|\n",
      "|2023-02-24 18:20:00|396.3300|396.3300|396.3300|396.3300|   222|   SPY|\n",
      "|2023-02-24 18:15:00|396.3300|396.3300|396.3300|396.3300|   111|   SPY|\n",
      "|2023-02-24 18:10:00|396.3400|396.3400|396.3400|396.3400|   409|   SPY|\n",
      "|2023-02-24 18:05:00|396.3100|396.3100|396.3100|396.3100|   231|   SPY|\n",
      "+-------------------+--------+--------+--------+--------+------+------+\n",
      "only showing top 20 rows"
     ]
    }
   ],
   "source": [
    "df.show()"
   ]
  }
 ],
 "metadata": {
  "kernelspec": {
   "display_name": "PySpark",
   "language": "python",
   "name": "pysparkkernel"
  },
  "language_info": {
   "codemirror_mode": {
    "name": "python",
    "version": 3
   },
   "file_extension": ".py",
   "mimetype": "text/x-python",
   "name": "pyspark",
   "pygments_lexer": "python3"
  }
 },
 "nbformat": 4,
 "nbformat_minor": 5
}
